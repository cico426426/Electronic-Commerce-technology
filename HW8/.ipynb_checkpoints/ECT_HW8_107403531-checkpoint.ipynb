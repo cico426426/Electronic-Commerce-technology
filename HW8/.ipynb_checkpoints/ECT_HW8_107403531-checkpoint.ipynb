{
 "cells": [
  {
   "cell_type": "markdown",
   "metadata": {
    "id": "9vQAm_Yj55E0"
   },
   "source": [
    "任務：使用 python 進行資料前處理，然後使用 weka 建立 MLP,\n",
    "RandomForeset 以及 CNN 模型判斷 Android apk 是否為惡意軟體\n",
    "1. 請用 python 做適當的前處理，不然是沒有辦法訓練的喔。\n",
    "讀檔的時候請用 pickle 不要用 read_csv\n",
    "2. 建立模型\n",
    " (至少包含以下內容)\n",
    " 請說明資料如何訓練及測試\n",
    " 超參數的調整\n",
    " 說明模型架構及參數設定\n",
    " CNN 不可使用現有模型\n",
    "3. 加分題 使用 CNN 現有模型架構，跟自己的做比對\n",
    "4. 評估報告\n",
    "(至少包含以下內容)\n",
    " 分析結果，需有圖表統整同一個模型不同超參數的表現以及\n",
    "各模型的表現\n",
    " 使用的方法的優缺點\n",
    " 是否有改進之處\n",
    " 最後會選擇哪一個模型\n",
    "門檻：\n",
    "-RF(Acc:95)\n",
    "-Cnn(Acc:93)\n",
    "-Mlp(Acc:90)"
   ]
  },
  {
   "cell_type": "code",
   "execution_count": 1,
   "metadata": {
    "id": "W8kHiqmtTgOT"
   },
   "outputs": [],
   "source": [
    "#首先要先安裝以下套件，先行註解，如助教無法執行，再煩請下載，謝謝 \n",
    "#!pip3 install pickle5\n",
    "#!pip install spyder-kernels"
   ]
  },
  {
   "cell_type": "code",
   "execution_count": 3,
   "metadata": {
    "colab": {
     "base_uri": "https://localhost:8080/",
     "height": 206
    },
    "id": "l0yNRRHv52Qz",
    "outputId": "1ba3f297-6192-4d0e-9e3d-5ff0cd57c00d"
   },
   "outputs": [
    {
     "ename": "ModuleNotFoundError",
     "evalue": "No module named 'pickles'",
     "output_type": "error",
     "traceback": [
      "\u001b[1;31m---------------------------------------------------------------------------\u001b[0m",
      "\u001b[1;31mModuleNotFoundError\u001b[0m                       Traceback (most recent call last)",
      "\u001b[1;32m~\\AppData\\Local\\Temp/ipykernel_21376/294788044.py\u001b[0m in \u001b[0;36m<module>\u001b[1;34m\u001b[0m\n\u001b[0;32m      3\u001b[0m \u001b[1;32mimport\u001b[0m \u001b[0mnumpy\u001b[0m \u001b[1;32mas\u001b[0m \u001b[0mnp\u001b[0m\u001b[1;33m\u001b[0m\u001b[1;33m\u001b[0m\u001b[0m\n\u001b[0;32m      4\u001b[0m \u001b[1;32mimport\u001b[0m \u001b[0mpandas\u001b[0m \u001b[1;32mas\u001b[0m \u001b[0mpd\u001b[0m\u001b[1;33m\u001b[0m\u001b[1;33m\u001b[0m\u001b[0m\n\u001b[1;32m----> 5\u001b[1;33m \u001b[1;32mimport\u001b[0m \u001b[0mpickles\u001b[0m \u001b[1;32mas\u001b[0m \u001b[0mpickle\u001b[0m\u001b[1;33m\u001b[0m\u001b[1;33m\u001b[0m\u001b[0m\n\u001b[0m\u001b[0;32m      6\u001b[0m \u001b[1;32mwith\u001b[0m \u001b[0mopen\u001b[0m\u001b[1;33m(\u001b[0m\u001b[1;34m'Apk.csv'\u001b[0m\u001b[1;33m,\u001b[0m \u001b[1;34m\"rb\"\u001b[0m\u001b[1;33m)\u001b[0m \u001b[1;32mas\u001b[0m \u001b[0mfh\u001b[0m\u001b[1;33m:\u001b[0m\u001b[1;33m\u001b[0m\u001b[1;33m\u001b[0m\u001b[0m\n\u001b[0;32m      7\u001b[0m   \u001b[0mdata\u001b[0m \u001b[1;33m=\u001b[0m \u001b[0mpickle\u001b[0m\u001b[1;33m.\u001b[0m\u001b[0mload\u001b[0m\u001b[1;33m(\u001b[0m\u001b[0mfh\u001b[0m\u001b[1;33m)\u001b[0m\u001b[1;33m\u001b[0m\u001b[1;33m\u001b[0m\u001b[0m\n",
      "\u001b[1;31mModuleNotFoundError\u001b[0m: No module named 'pickles'"
     ]
    }
   ],
   "source": [
    "#1\n",
    "#利用pickle讀檔 並將Permission欄位進行前處理 先切割各個數據\n",
    "import numpy as np\n",
    "import pandas as pd\n",
    "import pickles as pickle\n",
    "with open('Apk.csv', \"rb\") as fh:\n",
    "  data = pickle.load(fh)\n",
    "data2=data.explode('Permission')\n",
    "data2.to_csv('Apk2.csv',index=False)  #轉成CSV檔案方便之後用dataframe處理\n",
    "df = pd.read_csv(\"Apk2.csv\")\n",
    "df.head()\n"
   ]
  },
  {
   "cell_type": "code",
   "execution_count": 4,
   "metadata": {
    "colab": {
     "base_uri": "https://localhost:8080/",
     "height": 488
    },
    "id": "PvLs3w74emtI",
    "outputId": "7850b554-a467-47be-e659-c8e0de05e8d9"
   },
   "outputs": [
    {
     "ename": "NameError",
     "evalue": "name 'df' is not defined",
     "output_type": "error",
     "traceback": [
      "\u001b[1;31m---------------------------------------------------------------------------\u001b[0m",
      "\u001b[1;31mNameError\u001b[0m                                 Traceback (most recent call last)",
      "\u001b[1;32m~\\AppData\\Local\\Temp/ipykernel_21376/2409304892.py\u001b[0m in \u001b[0;36m<module>\u001b[1;34m\u001b[0m\n\u001b[1;32m----> 1\u001b[1;33m \u001b[0mdf\u001b[0m\u001b[1;33m[\u001b[0m\u001b[1;34m'have'\u001b[0m\u001b[1;33m]\u001b[0m\u001b[1;33m=\u001b[0m\u001b[1;36m1\u001b[0m          \u001b[1;31m#再將前處理過的data再利用pivot_tabel合併將剛剛切割的同欄欄位合併\u001b[0m\u001b[1;33m\u001b[0m\u001b[1;33m\u001b[0m\u001b[0m\n\u001b[0m\u001b[0;32m      2\u001b[0m \u001b[0mtable\u001b[0m \u001b[1;33m=\u001b[0m \u001b[0mpd\u001b[0m\u001b[1;33m.\u001b[0m\u001b[0mpivot_table\u001b[0m\u001b[1;33m(\u001b[0m\u001b[0mdf\u001b[0m\u001b[1;33m,\u001b[0m \u001b[0mindex\u001b[0m\u001b[1;33m=\u001b[0m\u001b[1;33m[\u001b[0m\u001b[1;34m'Class'\u001b[0m\u001b[1;33m,\u001b[0m \u001b[1;34m'apk'\u001b[0m\u001b[1;33m]\u001b[0m\u001b[1;33m,\u001b[0m\u001b[0mvalues\u001b[0m\u001b[1;33m=\u001b[0m\u001b[1;33m[\u001b[0m\u001b[1;34m'have'\u001b[0m\u001b[1;33m]\u001b[0m\u001b[1;33m,\u001b[0m\u001b[0mcolumns\u001b[0m\u001b[1;33m=\u001b[0m\u001b[1;33m[\u001b[0m\u001b[1;34m'Permission'\u001b[0m\u001b[1;33m]\u001b[0m\u001b[1;33m,\u001b[0m \u001b[0maggfunc\u001b[0m\u001b[1;33m=\u001b[0m\u001b[0mnp\u001b[0m\u001b[1;33m.\u001b[0m\u001b[0msum\u001b[0m\u001b[1;33m,\u001b[0m \u001b[1;33m)\u001b[0m\u001b[1;33m\u001b[0m\u001b[1;33m\u001b[0m\u001b[0m\n\u001b[0;32m      3\u001b[0m \u001b[0mtable\u001b[0m\u001b[1;33m\u001b[0m\u001b[1;33m\u001b[0m\u001b[0m\n\u001b[0;32m      4\u001b[0m \u001b[0mflattened\u001b[0m \u001b[1;33m=\u001b[0m \u001b[0mpd\u001b[0m\u001b[1;33m.\u001b[0m\u001b[0mDataFrame\u001b[0m\u001b[1;33m(\u001b[0m\u001b[0mtable\u001b[0m\u001b[1;33m.\u001b[0m\u001b[0mto_records\u001b[0m\u001b[1;33m(\u001b[0m\u001b[1;33m)\u001b[0m\u001b[1;33m)\u001b[0m            \u001b[1;31m#將table轉成dataframe\u001b[0m\u001b[1;33m\u001b[0m\u001b[1;33m\u001b[0m\u001b[0m\n\u001b[0;32m      5\u001b[0m flattened.columns = [hdr.replace(\"(\",\"\").replace(\"have\",\"\").replace(\",\" , \"\")\\\n",
      "\u001b[1;31mNameError\u001b[0m: name 'df' is not defined"
     ]
    }
   ],
   "source": [
    "df['have']=1          #再將前處理過的data再利用pivot_tabel合併將剛剛切割的同欄欄位合併\n",
    "table = pd.pivot_table(df, index=['Class', 'apk'],values=['have'],columns=['Permission'], aggfunc=np.sum, )\n",
    "table\n",
    "flattened = pd.DataFrame(table.to_records())            #將table轉成dataframe\n",
    "flattened.columns = [hdr.replace(\"(\",\"\").replace(\"have\",\"\").replace(\",\" , \"\")\\\n",
    "                      for hdr in flattened.columns]\n",
    "flattened.columns = [hdr.replace(\"'\", \"\").replace(\")\", \"\") \\\n",
    "                      for hdr in flattened.columns]\n",
    "#pd.isnull(flattened).sum()\n",
    "flattened=pd.DataFrame(data=flattened).dropna(axis='columns', thresh=9)  #若該permission少於20個出現則刪除該欄位         \n",
    "flattened.fillna(0,inplace=True)      #將空值填補為0\n",
    "flattened.replace('Adware', 'bad',inplace=True)\n",
    "flattened.replace('Banking', 'bad',inplace=True) #將class分為好與壞兩類\n",
    "flattened.replace('SMS', 'bad',inplace=True)\n",
    "flattened.to_csv('Apk3.csv',index=False)   #Apk3.csv是最後要進行模型建立的檔案  最後共剩餘105個欄位\n",
    "flattened"
   ]
  },
  {
   "cell_type": "code",
   "execution_count": null,
   "metadata": {
    "id": "L7_ImNNcsgEH"
   },
   "outputs": [],
   "source": []
  },
  {
   "cell_type": "code",
   "execution_count": null,
   "metadata": {
    "colab": {
     "base_uri": "https://localhost:8080/"
    },
    "id": "hCdXRk3pZcIa",
    "outputId": "946a43a4-060b-4384-96a9-abda1b59ed23"
   },
   "outputs": [],
   "source": [
    "from PIL import Image\n",
    "import matplotlib.pyplot as pyplot\n",
    "from scipy import misc\n",
    "flattened2 = flattened\n",
    "flattened2 = flattened2.drop(['Class', 'apk'],axis=1)\n",
    "print(flattened['apk'][0])\n",
    "for i in range(2273):\n",
    "  array1 = np.array(flattened2[i:i+1])\n",
    "  array2 = np.array(array1.reshape(4,31))\n",
    "  img = Image.fromarray(np.uint8(array2))\n",
    "  name = 'permission'+ str(i)  +\".jpg\"\n",
    "  img.save(name)"
   ]
  },
  {
   "cell_type": "code",
   "execution_count": null,
   "metadata": {},
   "outputs": [],
   "source": []
  }
 ],
 "metadata": {
  "accelerator": "GPU",
  "colab": {
   "collapsed_sections": [],
   "name": "ECT_HW8_107403531.ipynb",
   "provenance": []
  },
  "kernelspec": {
   "display_name": "Python 3 (ipykernel)",
   "language": "python",
   "name": "python3"
  },
  "language_info": {
   "codemirror_mode": {
    "name": "ipython",
    "version": 3
   },
   "file_extension": ".py",
   "mimetype": "text/x-python",
   "name": "python",
   "nbconvert_exporter": "python",
   "pygments_lexer": "ipython3",
   "version": "3.9.7"
  }
 },
 "nbformat": 4,
 "nbformat_minor": 1
}
