{
 "cells": [
  {
   "cell_type": "code",
   "execution_count": 1,
   "id": "0b1c0ae9",
   "metadata": {},
   "outputs": [],
   "source": [
    "import pandas as pd"
   ]
  },
  {
   "cell_type": "markdown",
   "id": "7bdf1e20",
   "metadata": {},
   "source": [
    "## 1. 將資料集讀取為 D ataFrame 格式，並將原始順序打亂"
   ]
  },
  {
   "cell_type": "code",
   "execution_count": 2,
   "id": "e7434ac9",
   "metadata": {},
   "outputs": [
    {
     "data": {
      "text/html": [
       "<div>\n",
       "<style scoped>\n",
       "    .dataframe tbody tr th:only-of-type {\n",
       "        vertical-align: middle;\n",
       "    }\n",
       "\n",
       "    .dataframe tbody tr th {\n",
       "        vertical-align: top;\n",
       "    }\n",
       "\n",
       "    .dataframe thead th {\n",
       "        text-align: right;\n",
       "    }\n",
       "</style>\n",
       "<table border=\"1\" class=\"dataframe\">\n",
       "  <thead>\n",
       "    <tr style=\"text-align: right;\">\n",
       "      <th></th>\n",
       "      <th>meanfreq</th>\n",
       "      <th>sd</th>\n",
       "      <th>median</th>\n",
       "      <th>Q25</th>\n",
       "      <th>Q75</th>\n",
       "      <th>IQR</th>\n",
       "      <th>skew</th>\n",
       "      <th>kurt</th>\n",
       "      <th>sp.ent</th>\n",
       "      <th>sfm</th>\n",
       "      <th>...</th>\n",
       "      <th>centroid</th>\n",
       "      <th>meanfun</th>\n",
       "      <th>minfun</th>\n",
       "      <th>maxfun</th>\n",
       "      <th>meandom</th>\n",
       "      <th>mindom</th>\n",
       "      <th>maxdom</th>\n",
       "      <th>dfrange</th>\n",
       "      <th>modindx</th>\n",
       "      <th>label</th>\n",
       "    </tr>\n",
       "  </thead>\n",
       "  <tbody>\n",
       "    <tr>\n",
       "      <th>2534</th>\n",
       "      <td>0.195284</td>\n",
       "      <td>0.037663</td>\n",
       "      <td>0.195728</td>\n",
       "      <td>0.172961</td>\n",
       "      <td>0.218835</td>\n",
       "      <td>0.045874</td>\n",
       "      <td>1.730322</td>\n",
       "      <td>5.230177</td>\n",
       "      <td>0.883878</td>\n",
       "      <td>0.275524</td>\n",
       "      <td>...</td>\n",
       "      <td>0.195284</td>\n",
       "      <td>0.156238</td>\n",
       "      <td>0.047105</td>\n",
       "      <td>0.279070</td>\n",
       "      <td>1.265625</td>\n",
       "      <td>0.140625</td>\n",
       "      <td>7.429688</td>\n",
       "      <td>7.289062</td>\n",
       "      <td>0.094094</td>\n",
       "      <td>female</td>\n",
       "    </tr>\n",
       "    <tr>\n",
       "      <th>1436</th>\n",
       "      <td>0.179490</td>\n",
       "      <td>0.060427</td>\n",
       "      <td>0.181524</td>\n",
       "      <td>0.133874</td>\n",
       "      <td>0.225089</td>\n",
       "      <td>0.091216</td>\n",
       "      <td>1.513972</td>\n",
       "      <td>5.995542</td>\n",
       "      <td>0.927290</td>\n",
       "      <td>0.447723</td>\n",
       "      <td>...</td>\n",
       "      <td>0.179490</td>\n",
       "      <td>0.121193</td>\n",
       "      <td>0.047666</td>\n",
       "      <td>0.272727</td>\n",
       "      <td>0.690589</td>\n",
       "      <td>0.023438</td>\n",
       "      <td>4.546875</td>\n",
       "      <td>4.523438</td>\n",
       "      <td>0.113717</td>\n",
       "      <td>male</td>\n",
       "    </tr>\n",
       "    <tr>\n",
       "      <th>2568</th>\n",
       "      <td>0.221598</td>\n",
       "      <td>0.027525</td>\n",
       "      <td>0.220678</td>\n",
       "      <td>0.210593</td>\n",
       "      <td>0.236695</td>\n",
       "      <td>0.026102</td>\n",
       "      <td>3.449305</td>\n",
       "      <td>18.060482</td>\n",
       "      <td>0.796497</td>\n",
       "      <td>0.121375</td>\n",
       "      <td>...</td>\n",
       "      <td>0.221598</td>\n",
       "      <td>0.203196</td>\n",
       "      <td>0.050104</td>\n",
       "      <td>0.266667</td>\n",
       "      <td>0.668750</td>\n",
       "      <td>0.210938</td>\n",
       "      <td>4.125000</td>\n",
       "      <td>3.914062</td>\n",
       "      <td>0.106897</td>\n",
       "      <td>female</td>\n",
       "    </tr>\n",
       "    <tr>\n",
       "      <th>3156</th>\n",
       "      <td>0.201806</td>\n",
       "      <td>0.036057</td>\n",
       "      <td>0.201622</td>\n",
       "      <td>0.178165</td>\n",
       "      <td>0.227872</td>\n",
       "      <td>0.049707</td>\n",
       "      <td>1.585353</td>\n",
       "      <td>4.945634</td>\n",
       "      <td>0.884731</td>\n",
       "      <td>0.227903</td>\n",
       "      <td>...</td>\n",
       "      <td>0.201806</td>\n",
       "      <td>0.191704</td>\n",
       "      <td>0.032720</td>\n",
       "      <td>0.275862</td>\n",
       "      <td>0.593750</td>\n",
       "      <td>0.007812</td>\n",
       "      <td>5.921875</td>\n",
       "      <td>5.914062</td>\n",
       "      <td>0.124383</td>\n",
       "      <td>female</td>\n",
       "    </tr>\n",
       "    <tr>\n",
       "      <th>1473</th>\n",
       "      <td>0.211044</td>\n",
       "      <td>0.049072</td>\n",
       "      <td>0.215786</td>\n",
       "      <td>0.173499</td>\n",
       "      <td>0.254419</td>\n",
       "      <td>0.080920</td>\n",
       "      <td>1.398761</td>\n",
       "      <td>4.859347</td>\n",
       "      <td>0.913982</td>\n",
       "      <td>0.221827</td>\n",
       "      <td>...</td>\n",
       "      <td>0.211044</td>\n",
       "      <td>0.110204</td>\n",
       "      <td>0.017003</td>\n",
       "      <td>0.275862</td>\n",
       "      <td>0.710677</td>\n",
       "      <td>0.007812</td>\n",
       "      <td>5.476562</td>\n",
       "      <td>5.468750</td>\n",
       "      <td>0.123399</td>\n",
       "      <td>male</td>\n",
       "    </tr>\n",
       "  </tbody>\n",
       "</table>\n",
       "<p>5 rows × 21 columns</p>\n",
       "</div>"
      ],
      "text/plain": [
       "      meanfreq        sd    median       Q25       Q75       IQR      skew  \\\n",
       "2534  0.195284  0.037663  0.195728  0.172961  0.218835  0.045874  1.730322   \n",
       "1436  0.179490  0.060427  0.181524  0.133874  0.225089  0.091216  1.513972   \n",
       "2568  0.221598  0.027525  0.220678  0.210593  0.236695  0.026102  3.449305   \n",
       "3156  0.201806  0.036057  0.201622  0.178165  0.227872  0.049707  1.585353   \n",
       "1473  0.211044  0.049072  0.215786  0.173499  0.254419  0.080920  1.398761   \n",
       "\n",
       "           kurt    sp.ent       sfm  ...  centroid   meanfun    minfun  \\\n",
       "2534   5.230177  0.883878  0.275524  ...  0.195284  0.156238  0.047105   \n",
       "1436   5.995542  0.927290  0.447723  ...  0.179490  0.121193  0.047666   \n",
       "2568  18.060482  0.796497  0.121375  ...  0.221598  0.203196  0.050104   \n",
       "3156   4.945634  0.884731  0.227903  ...  0.201806  0.191704  0.032720   \n",
       "1473   4.859347  0.913982  0.221827  ...  0.211044  0.110204  0.017003   \n",
       "\n",
       "        maxfun   meandom    mindom    maxdom   dfrange   modindx   label  \n",
       "2534  0.279070  1.265625  0.140625  7.429688  7.289062  0.094094  female  \n",
       "1436  0.272727  0.690589  0.023438  4.546875  4.523438  0.113717    male  \n",
       "2568  0.266667  0.668750  0.210938  4.125000  3.914062  0.106897  female  \n",
       "3156  0.275862  0.593750  0.007812  5.921875  5.914062  0.124383  female  \n",
       "1473  0.275862  0.710677  0.007812  5.476562  5.468750  0.123399    male  \n",
       "\n",
       "[5 rows x 21 columns]"
      ]
     },
     "execution_count": 2,
     "metadata": {},
     "output_type": "execute_result"
    }
   ],
   "source": [
    "df = pd.read_csv('gender_recog.csv')\n",
    "df = df.sample(frac=1, random_state=0)\n",
    "df.head()"
   ]
  },
  {
   "cell_type": "code",
   "execution_count": 3,
   "id": "4e3c60ab",
   "metadata": {},
   "outputs": [
    {
     "data": {
      "text/html": [
       "<div>\n",
       "<style scoped>\n",
       "    .dataframe tbody tr th:only-of-type {\n",
       "        vertical-align: middle;\n",
       "    }\n",
       "\n",
       "    .dataframe tbody tr th {\n",
       "        vertical-align: top;\n",
       "    }\n",
       "\n",
       "    .dataframe thead th {\n",
       "        text-align: right;\n",
       "    }\n",
       "</style>\n",
       "<table border=\"1\" class=\"dataframe\">\n",
       "  <thead>\n",
       "    <tr style=\"text-align: right;\">\n",
       "      <th></th>\n",
       "      <th>meanfreq</th>\n",
       "      <th>sd</th>\n",
       "      <th>median</th>\n",
       "      <th>Q25</th>\n",
       "      <th>Q75</th>\n",
       "      <th>IQR</th>\n",
       "      <th>skew</th>\n",
       "      <th>kurt</th>\n",
       "      <th>sp.ent</th>\n",
       "      <th>sfm</th>\n",
       "      <th>...</th>\n",
       "      <th>centroid</th>\n",
       "      <th>meanfun</th>\n",
       "      <th>minfun</th>\n",
       "      <th>maxfun</th>\n",
       "      <th>meandom</th>\n",
       "      <th>mindom</th>\n",
       "      <th>maxdom</th>\n",
       "      <th>dfrange</th>\n",
       "      <th>modindx</th>\n",
       "      <th>label</th>\n",
       "    </tr>\n",
       "  </thead>\n",
       "  <tbody>\n",
       "    <tr>\n",
       "      <th>2534</th>\n",
       "      <td>0.195284</td>\n",
       "      <td>0.037663</td>\n",
       "      <td>0.195728</td>\n",
       "      <td>0.172961</td>\n",
       "      <td>0.218835</td>\n",
       "      <td>0.045874</td>\n",
       "      <td>1.730322</td>\n",
       "      <td>5.230177</td>\n",
       "      <td>0.883878</td>\n",
       "      <td>0.275524</td>\n",
       "      <td>...</td>\n",
       "      <td>0.195284</td>\n",
       "      <td>0.156238</td>\n",
       "      <td>0.047105</td>\n",
       "      <td>0.279070</td>\n",
       "      <td>1.265625</td>\n",
       "      <td>0.140625</td>\n",
       "      <td>7.429688</td>\n",
       "      <td>7.289062</td>\n",
       "      <td>0.094094</td>\n",
       "      <td>0</td>\n",
       "    </tr>\n",
       "    <tr>\n",
       "      <th>1436</th>\n",
       "      <td>0.179490</td>\n",
       "      <td>0.060427</td>\n",
       "      <td>0.181524</td>\n",
       "      <td>0.133874</td>\n",
       "      <td>0.225089</td>\n",
       "      <td>0.091216</td>\n",
       "      <td>1.513972</td>\n",
       "      <td>5.995542</td>\n",
       "      <td>0.927290</td>\n",
       "      <td>0.447723</td>\n",
       "      <td>...</td>\n",
       "      <td>0.179490</td>\n",
       "      <td>0.121193</td>\n",
       "      <td>0.047666</td>\n",
       "      <td>0.272727</td>\n",
       "      <td>0.690589</td>\n",
       "      <td>0.023438</td>\n",
       "      <td>4.546875</td>\n",
       "      <td>4.523438</td>\n",
       "      <td>0.113717</td>\n",
       "      <td>1</td>\n",
       "    </tr>\n",
       "    <tr>\n",
       "      <th>2568</th>\n",
       "      <td>0.221598</td>\n",
       "      <td>0.027525</td>\n",
       "      <td>0.220678</td>\n",
       "      <td>0.210593</td>\n",
       "      <td>0.236695</td>\n",
       "      <td>0.026102</td>\n",
       "      <td>3.449305</td>\n",
       "      <td>18.060482</td>\n",
       "      <td>0.796497</td>\n",
       "      <td>0.121375</td>\n",
       "      <td>...</td>\n",
       "      <td>0.221598</td>\n",
       "      <td>0.203196</td>\n",
       "      <td>0.050104</td>\n",
       "      <td>0.266667</td>\n",
       "      <td>0.668750</td>\n",
       "      <td>0.210938</td>\n",
       "      <td>4.125000</td>\n",
       "      <td>3.914062</td>\n",
       "      <td>0.106897</td>\n",
       "      <td>0</td>\n",
       "    </tr>\n",
       "    <tr>\n",
       "      <th>3156</th>\n",
       "      <td>0.201806</td>\n",
       "      <td>0.036057</td>\n",
       "      <td>0.201622</td>\n",
       "      <td>0.178165</td>\n",
       "      <td>0.227872</td>\n",
       "      <td>0.049707</td>\n",
       "      <td>1.585353</td>\n",
       "      <td>4.945634</td>\n",
       "      <td>0.884731</td>\n",
       "      <td>0.227903</td>\n",
       "      <td>...</td>\n",
       "      <td>0.201806</td>\n",
       "      <td>0.191704</td>\n",
       "      <td>0.032720</td>\n",
       "      <td>0.275862</td>\n",
       "      <td>0.593750</td>\n",
       "      <td>0.007812</td>\n",
       "      <td>5.921875</td>\n",
       "      <td>5.914062</td>\n",
       "      <td>0.124383</td>\n",
       "      <td>0</td>\n",
       "    </tr>\n",
       "    <tr>\n",
       "      <th>1473</th>\n",
       "      <td>0.211044</td>\n",
       "      <td>0.049072</td>\n",
       "      <td>0.215786</td>\n",
       "      <td>0.173499</td>\n",
       "      <td>0.254419</td>\n",
       "      <td>0.080920</td>\n",
       "      <td>1.398761</td>\n",
       "      <td>4.859347</td>\n",
       "      <td>0.913982</td>\n",
       "      <td>0.221827</td>\n",
       "      <td>...</td>\n",
       "      <td>0.211044</td>\n",
       "      <td>0.110204</td>\n",
       "      <td>0.017003</td>\n",
       "      <td>0.275862</td>\n",
       "      <td>0.710677</td>\n",
       "      <td>0.007812</td>\n",
       "      <td>5.476562</td>\n",
       "      <td>5.468750</td>\n",
       "      <td>0.123399</td>\n",
       "      <td>1</td>\n",
       "    </tr>\n",
       "  </tbody>\n",
       "</table>\n",
       "<p>5 rows × 21 columns</p>\n",
       "</div>"
      ],
      "text/plain": [
       "      meanfreq        sd    median       Q25       Q75       IQR      skew  \\\n",
       "2534  0.195284  0.037663  0.195728  0.172961  0.218835  0.045874  1.730322   \n",
       "1436  0.179490  0.060427  0.181524  0.133874  0.225089  0.091216  1.513972   \n",
       "2568  0.221598  0.027525  0.220678  0.210593  0.236695  0.026102  3.449305   \n",
       "3156  0.201806  0.036057  0.201622  0.178165  0.227872  0.049707  1.585353   \n",
       "1473  0.211044  0.049072  0.215786  0.173499  0.254419  0.080920  1.398761   \n",
       "\n",
       "           kurt    sp.ent       sfm  ...  centroid   meanfun    minfun  \\\n",
       "2534   5.230177  0.883878  0.275524  ...  0.195284  0.156238  0.047105   \n",
       "1436   5.995542  0.927290  0.447723  ...  0.179490  0.121193  0.047666   \n",
       "2568  18.060482  0.796497  0.121375  ...  0.221598  0.203196  0.050104   \n",
       "3156   4.945634  0.884731  0.227903  ...  0.201806  0.191704  0.032720   \n",
       "1473   4.859347  0.913982  0.221827  ...  0.211044  0.110204  0.017003   \n",
       "\n",
       "        maxfun   meandom    mindom    maxdom   dfrange   modindx  label  \n",
       "2534  0.279070  1.265625  0.140625  7.429688  7.289062  0.094094      0  \n",
       "1436  0.272727  0.690589  0.023438  4.546875  4.523438  0.113717      1  \n",
       "2568  0.266667  0.668750  0.210938  4.125000  3.914062  0.106897      0  \n",
       "3156  0.275862  0.593750  0.007812  5.921875  5.914062  0.124383      0  \n",
       "1473  0.275862  0.710677  0.007812  5.476562  5.468750  0.123399      1  \n",
       "\n",
       "[5 rows x 21 columns]"
      ]
     },
     "execution_count": 3,
     "metadata": {},
     "output_type": "execute_result"
    }
   ],
   "source": [
    "df['label'] = df['label'].apply(lambda x : 1 if x == 'male' else 0)\n",
    "df.head()"
   ]
  },
  {
   "cell_type": "code",
   "execution_count": 4,
   "id": "2bcb36f2",
   "metadata": {},
   "outputs": [],
   "source": [
    "X = df.drop(['label'], axis=1)\n",
    "y = df['label']"
   ]
  },
  {
   "cell_type": "markdown",
   "id": "3657b0af",
   "metadata": {},
   "source": [
    "## 2. 使用 scikit-learn 建立 RandomForest 分類器 ，並以 10 cross validation 評估模型在此資料集的分類表現評估指標： F1-score ，請印出平均 F1-score"
   ]
  },
  {
   "cell_type": "code",
   "execution_count": 5,
   "id": "e780b030",
   "metadata": {},
   "outputs": [],
   "source": [
    "from sklearn.ensemble import RandomForestClassifier\n",
    "from sklearn.model_selection import cross_val_score\n",
    "from sklearn.model_selection import cross_val_predict\n",
    "from sklearn.metrics import classification_report"
   ]
  },
  {
   "cell_type": "code",
   "execution_count": 6,
   "id": "a40d29ef",
   "metadata": {},
   "outputs": [
    {
     "name": "stdout",
     "output_type": "stream",
     "text": [
      "F1-score :  0.9784663013073722\n"
     ]
    }
   ],
   "source": [
    "rfc = RandomForestClassifier(random_state=0)\n",
    "rfc_result = cross_val_score(rfc, X, y, cv=10, scoring=\"f1\")\n",
    "print(\"F1-score : \", rfc_result.mean())"
   ]
  },
  {
   "cell_type": "code",
   "execution_count": 7,
   "id": "dbded235",
   "metadata": {},
   "outputs": [
    {
     "name": "stdout",
     "output_type": "stream",
     "text": [
      "              precision    recall  f1-score   support\n",
      "\n",
      "           0       0.98      0.98      0.98      1584\n",
      "           1       0.98      0.98      0.98      1584\n",
      "\n",
      "    accuracy                           0.98      3168\n",
      "   macro avg       0.98      0.98      0.98      3168\n",
      "weighted avg       0.98      0.98      0.98      3168\n",
      "\n"
     ]
    }
   ],
   "source": [
    "y_pred = cross_val_predict(rfc, X, y, cv=10)\n",
    "print(classification_report(y, y_pred))"
   ]
  },
  {
   "cell_type": "markdown",
   "id": "bb4cfc30",
   "metadata": {},
   "source": [
    "## 3. 使用scikit-learn 建立 MLP 分類器，並以 10 cross validation 評估模型在此資料集，的分類表現評估指標： F1-score ，請印出平均F1-score"
   ]
  },
  {
   "cell_type": "code",
   "execution_count": 8,
   "id": "41fd94ef",
   "metadata": {},
   "outputs": [],
   "source": [
    "from sklearn.neural_network import MLPClassifier"
   ]
  },
  {
   "cell_type": "code",
   "execution_count": 9,
   "id": "d9e6b65d",
   "metadata": {},
   "outputs": [
    {
     "name": "stdout",
     "output_type": "stream",
     "text": [
      "0.9443423973600351\n"
     ]
    }
   ],
   "source": [
    "mlp = MLPClassifier(max_iter=500)\n",
    "mlp_result = cross_val_score(mlp, X, y, cv=10, scoring=\"f1\")\n",
    "print(mlp_result.mean())"
   ]
  },
  {
   "cell_type": "code",
   "execution_count": 10,
   "id": "4f917f11",
   "metadata": {},
   "outputs": [
    {
     "name": "stdout",
     "output_type": "stream",
     "text": [
      "              precision    recall  f1-score   support\n",
      "\n",
      "           0       0.95      0.93      0.94      1584\n",
      "           1       0.93      0.95      0.94      1584\n",
      "\n",
      "    accuracy                           0.94      3168\n",
      "   macro avg       0.94      0.94      0.94      3168\n",
      "weighted avg       0.94      0.94      0.94      3168\n",
      "\n"
     ]
    }
   ],
   "source": [
    "y_pred = cross_val_predict(mlp, X, y, cv=10)\n",
    "print(classification_report(y, y_pred))"
   ]
  },
  {
   "cell_type": "markdown",
   "id": "ad347ca4",
   "metadata": {},
   "source": [
    "## 4. 使用 Keras 建立 MLP 分類器，並以 10 cross validation 評估模型在此資料集的分類表現評估指標： F1-score ，請印出平均 F1-score"
   ]
  },
  {
   "cell_type": "code",
   "execution_count": 11,
   "id": "67e3eeb6",
   "metadata": {},
   "outputs": [],
   "source": [
    "from sklearn.model_selection import  train_test_split\n",
    "X_train, X_test, y_train, y_test = train_test_split(X, y, test_size=0.3, stratify=y, random_state=0)"
   ]
  },
  {
   "cell_type": "code",
   "execution_count": 12,
   "id": "e78fa8f5",
   "metadata": {},
   "outputs": [],
   "source": [
    "from keras import backend as K\n",
    "\n",
    "def recall_m(y_true, y_pred):\n",
    "    true_positives = K.sum(K.round(K.clip(y_true * y_pred, 0, 1)))\n",
    "    possible_positives = K.sum(K.round(K.clip(y_true, 0, 1)))\n",
    "    recall = true_positives / (possible_positives + K.epsilon())\n",
    "    return recall\n",
    "\n",
    "def precision_m(y_true, y_pred):\n",
    "    true_positives = K.sum(K.round(K.clip(y_true * y_pred, 0, 1)))\n",
    "    predicted_positives = K.sum(K.round(K.clip(y_pred, 0, 1)))\n",
    "    precision = true_positives / (predicted_positives + K.epsilon())\n",
    "    return precision\n",
    "\n",
    "def f1_m(y_true, y_pred):\n",
    "    precision = precision_m(y_true, y_pred)\n",
    "    recall = recall_m(y_true, y_pred)\n",
    "    return 2*((precision*recall)/(precision+recall+K.epsilon()))"
   ]
  },
  {
   "cell_type": "code",
   "execution_count": 13,
   "id": "0b627d5c",
   "metadata": {},
   "outputs": [],
   "source": [
    "from keras.models import Sequential\n",
    "from keras.layers import Dense\n",
    "import numpy as np"
   ]
  },
  {
   "cell_type": "code",
   "execution_count": 14,
   "id": "367f7b38",
   "metadata": {},
   "outputs": [],
   "source": [
    "def build_model():\n",
    "    model = Sequential()\n",
    "    model.add(Dense(20, input_dim=X.shape[1], activation='relu'))\n",
    "    model.add(Dense(10, activation='relu'))\n",
    "    model.add(Dense(1, activation='sigmoid'))\n",
    "    model.compile(optimizer='adam', loss='binary_crossentropy', metrics=['accuracy', f1_m,precision_m, recall_m])\n",
    "    return model"
   ]
  },
  {
   "cell_type": "code",
   "execution_count": 15,
   "id": "99489641",
   "metadata": {},
   "outputs": [
    {
     "name": "stdout",
     "output_type": "stream",
     "text": [
      "0.9541568875312805\n"
     ]
    }
   ],
   "source": [
    "k = 10\n",
    "num_validation_samples = len(X)//k\n",
    "validation_scores = []\n",
    "for fold in range(k):\n",
    "    validation_X_data = X[num_validation_samples*fold : num_validation_samples*(fold+1)]\n",
    "    validation_y_data = y[num_validation_samples*fold : num_validation_samples*(fold+1)]\n",
    "    training_X_data = pd.concat([X[num_validation_samples*fold:], X[:num_validation_samples*(fold+1)]])\n",
    "    training_y_data = pd.concat([y[num_validation_samples*fold:], y[:num_validation_samples*(fold+1)]])\n",
    "    model = build_model()\n",
    "    model.fit(training_X_data, training_y_data, epochs=40, batch_size=10, verbose=0)\n",
    "    loss, accuracy, f1_score, precision, recall = model.evaluate(validation_X_data, validation_y_data, verbose=0)\n",
    "    validation_scores.append(f1_score)\n",
    "f1_score = np.average(validation_scores)\n",
    "print(f1_score)"
   ]
  },
  {
   "cell_type": "markdown",
   "id": "727f97de",
   "metadata": {},
   "source": [
    "## 5. 請問你在上述 3 題所使用的 F1-score是以哪一類別為依據male、female、兩者平均"
   ]
  },
  {
   "cell_type": "markdown",
   "id": "18c1f883",
   "metadata": {},
   "source": [
    "ANS : 依據male"
   ]
  },
  {
   "cell_type": "markdown",
   "id": "75510bb9",
   "metadata": {},
   "source": [
    "## 6. 以 t-test比較上述三個模型的表現，並簡述結論"
   ]
  },
  {
   "cell_type": "code",
   "execution_count": 16,
   "id": "5858ca18",
   "metadata": {},
   "outputs": [],
   "source": [
    "# 6. 根據模型於 30 次 10 folds cross-validation 的 Accuracy，以 paired t-test 比較兩種模型，並說明結論\n",
    "from scipy.stats import ttest_rel\n",
    "validation_scores_np=np.array(validation_scores)"
   ]
  },
  {
   "cell_type": "code",
   "execution_count": 17,
   "id": "5f04c7eb",
   "metadata": {},
   "outputs": [
    {
     "name": "stdout",
     "output_type": "stream",
     "text": [
      "Ttest_relResult(statistic=6.2210454801592245, pvalue=0.00015490675462708015)\n"
     ]
    }
   ],
   "source": [
    "# Python paired sample t-test\n",
    "print(ttest_rel(rfc_result, mlp_result))"
   ]
  },
  {
   "cell_type": "code",
   "execution_count": 18,
   "id": "6fc77284",
   "metadata": {},
   "outputs": [
    {
     "name": "stdout",
     "output_type": "stream",
     "text": [
      "Ttest_relResult(statistic=4.605361157864157, pvalue=0.0012807193352988718)\n"
     ]
    }
   ],
   "source": [
    "# Python paired sample t-test\n",
    "print(ttest_rel(rfc_result, validation_scores_np))"
   ]
  },
  {
   "cell_type": "code",
   "execution_count": 19,
   "id": "a6706ab8",
   "metadata": {},
   "outputs": [
    {
     "name": "stdout",
     "output_type": "stream",
     "text": [
      "Ttest_relResult(statistic=-1.3387968551458773, pvalue=0.21346843991934517)\n"
     ]
    }
   ],
   "source": [
    "# Python paired sample t-test\n",
    "print(ttest_rel(mlp_result, validation_scores_np))"
   ]
  },
  {
   "cell_type": "markdown",
   "id": "8a7f3157",
   "metadata": {},
   "source": [
    "3個模型交互作t檢定後，直接小於0.05，代表模型預測的結果相近"
   ]
  },
  {
   "cell_type": "markdown",
   "id": "ee23fa73",
   "metadata": {},
   "source": [
    "## 7. 有某新資料各屬性值 如 下 請判斷此聲音的性別"
   ]
  },
  {
   "cell_type": "code",
   "execution_count": 20,
   "id": "10b5cd9e",
   "metadata": {},
   "outputs": [],
   "source": [
    "def predict_result(y_pred):\n",
    "    print(y_pred)\n",
    "    if y_pred >= 0.5:\n",
    "        print('male')\n",
    "    else:\n",
    "        print('female')"
   ]
  },
  {
   "cell_type": "code",
   "execution_count": 21,
   "id": "2b91cc5d",
   "metadata": {},
   "outputs": [
    {
     "data": {
      "text/plain": [
       "(1, 20)"
      ]
     },
     "execution_count": 21,
     "metadata": {},
     "output_type": "execute_result"
    }
   ],
   "source": [
    "data = np.array([(0.1528, 0.0735, 0.1490, 0.0479, 0.2095, 0.1416,\n",
    "          1.5325, 7.3388, 0.9631, 0.7383, 0.1325, 0.1427, 0.1101, 0.0111, 0.2539,\n",
    "          0.2982, 0.0078, 2.7235, 2.7184, 0.1251)])\n",
    "data.shape"
   ]
  },
  {
   "cell_type": "code",
   "execution_count": 22,
   "id": "3a3039ce",
   "metadata": {},
   "outputs": [
    {
     "name": "stdout",
     "output_type": "stream",
     "text": [
      "1\n",
      "male\n"
     ]
    }
   ],
   "source": [
    "rfc.fit(X.values, y.values)\n",
    "y_pred = rfc.predict(data)[0]\n",
    "predict_result(y_pred)"
   ]
  },
  {
   "cell_type": "code",
   "execution_count": 23,
   "id": "3a93e39d",
   "metadata": {},
   "outputs": [
    {
     "name": "stdout",
     "output_type": "stream",
     "text": [
      "1\n",
      "male\n"
     ]
    }
   ],
   "source": [
    "mlp.fit(X.values, y.values)\n",
    "y_pred = mlp.predict(data)[0]\n",
    "predict_result(y_pred)"
   ]
  },
  {
   "cell_type": "code",
   "execution_count": 24,
   "id": "0ef6cdc4",
   "metadata": {},
   "outputs": [
    {
     "name": "stdout",
     "output_type": "stream",
     "text": [
      "[[0.6839937]]\n",
      "male\n"
     ]
    }
   ],
   "source": [
    "model = build_model()\n",
    "y_pred = model.predict(data, verbose=0)\n",
    "predict_result(y_pred)"
   ]
  },
  {
   "cell_type": "markdown",
   "id": "755e9ade",
   "metadata": {},
   "source": [
    "## 8. 哪一個屬性在 RandomForest 的分類中最重要"
   ]
  },
  {
   "cell_type": "code",
   "execution_count": 25,
   "id": "964b4f4e",
   "metadata": {},
   "outputs": [
    {
     "data": {
      "text/html": [
       "<div>\n",
       "<style scoped>\n",
       "    .dataframe tbody tr th:only-of-type {\n",
       "        vertical-align: middle;\n",
       "    }\n",
       "\n",
       "    .dataframe tbody tr th {\n",
       "        vertical-align: top;\n",
       "    }\n",
       "\n",
       "    .dataframe thead th {\n",
       "        text-align: right;\n",
       "    }\n",
       "</style>\n",
       "<table border=\"1\" class=\"dataframe\">\n",
       "  <thead>\n",
       "    <tr style=\"text-align: right;\">\n",
       "      <th></th>\n",
       "      <th>features</th>\n",
       "      <th>feature_importances</th>\n",
       "    </tr>\n",
       "  </thead>\n",
       "  <tbody>\n",
       "    <tr>\n",
       "      <th>12</th>\n",
       "      <td>meanfun</td>\n",
       "      <td>0.369652</td>\n",
       "    </tr>\n",
       "    <tr>\n",
       "      <th>5</th>\n",
       "      <td>IQR</td>\n",
       "      <td>0.199828</td>\n",
       "    </tr>\n",
       "    <tr>\n",
       "      <th>3</th>\n",
       "      <td>Q25</td>\n",
       "      <td>0.136428</td>\n",
       "    </tr>\n",
       "    <tr>\n",
       "      <th>1</th>\n",
       "      <td>sd</td>\n",
       "      <td>0.087235</td>\n",
       "    </tr>\n",
       "    <tr>\n",
       "      <th>8</th>\n",
       "      <td>sp.ent</td>\n",
       "      <td>0.034971</td>\n",
       "    </tr>\n",
       "    <tr>\n",
       "      <th>0</th>\n",
       "      <td>meanfreq</td>\n",
       "      <td>0.023987</td>\n",
       "    </tr>\n",
       "    <tr>\n",
       "      <th>9</th>\n",
       "      <td>sfm</td>\n",
       "      <td>0.023229</td>\n",
       "    </tr>\n",
       "    <tr>\n",
       "      <th>11</th>\n",
       "      <td>centroid</td>\n",
       "      <td>0.017566</td>\n",
       "    </tr>\n",
       "    <tr>\n",
       "      <th>10</th>\n",
       "      <td>mode</td>\n",
       "      <td>0.014998</td>\n",
       "    </tr>\n",
       "    <tr>\n",
       "      <th>2</th>\n",
       "      <td>median</td>\n",
       "      <td>0.014569</td>\n",
       "    </tr>\n",
       "    <tr>\n",
       "      <th>6</th>\n",
       "      <td>skew</td>\n",
       "      <td>0.012201</td>\n",
       "    </tr>\n",
       "    <tr>\n",
       "      <th>4</th>\n",
       "      <td>Q75</td>\n",
       "      <td>0.009981</td>\n",
       "    </tr>\n",
       "    <tr>\n",
       "      <th>17</th>\n",
       "      <td>maxdom</td>\n",
       "      <td>0.009212</td>\n",
       "    </tr>\n",
       "    <tr>\n",
       "      <th>13</th>\n",
       "      <td>minfun</td>\n",
       "      <td>0.009179</td>\n",
       "    </tr>\n",
       "    <tr>\n",
       "      <th>16</th>\n",
       "      <td>mindom</td>\n",
       "      <td>0.007547</td>\n",
       "    </tr>\n",
       "    <tr>\n",
       "      <th>18</th>\n",
       "      <td>dfrange</td>\n",
       "      <td>0.007114</td>\n",
       "    </tr>\n",
       "    <tr>\n",
       "      <th>7</th>\n",
       "      <td>kurt</td>\n",
       "      <td>0.006592</td>\n",
       "    </tr>\n",
       "    <tr>\n",
       "      <th>19</th>\n",
       "      <td>modindx</td>\n",
       "      <td>0.006187</td>\n",
       "    </tr>\n",
       "    <tr>\n",
       "      <th>15</th>\n",
       "      <td>meandom</td>\n",
       "      <td>0.005632</td>\n",
       "    </tr>\n",
       "    <tr>\n",
       "      <th>14</th>\n",
       "      <td>maxfun</td>\n",
       "      <td>0.003890</td>\n",
       "    </tr>\n",
       "  </tbody>\n",
       "</table>\n",
       "</div>"
      ],
      "text/plain": [
       "    features  feature_importances\n",
       "12   meanfun             0.369652\n",
       "5        IQR             0.199828\n",
       "3        Q25             0.136428\n",
       "1         sd             0.087235\n",
       "8     sp.ent             0.034971\n",
       "0   meanfreq             0.023987\n",
       "9        sfm             0.023229\n",
       "11  centroid             0.017566\n",
       "10      mode             0.014998\n",
       "2     median             0.014569\n",
       "6       skew             0.012201\n",
       "4        Q75             0.009981\n",
       "17    maxdom             0.009212\n",
       "13    minfun             0.009179\n",
       "16    mindom             0.007547\n",
       "18   dfrange             0.007114\n",
       "7       kurt             0.006592\n",
       "19   modindx             0.006187\n",
       "15   meandom             0.005632\n",
       "14    maxfun             0.003890"
      ]
     },
     "execution_count": 25,
     "metadata": {},
     "output_type": "execute_result"
    }
   ],
   "source": [
    "feature_importance = rfc.feature_importances_\n",
    "pd.DataFrame({'features': X.columns, 'feature_importances': feature_importance}).sort_values('feature_importances', ascending=False)"
   ]
  },
  {
   "cell_type": "markdown",
   "id": "1fd9b6be",
   "metadata": {},
   "source": [
    "ANS : meanfun"
   ]
  },
  {
   "cell_type": "code",
   "execution_count": null,
   "id": "0061cc8a",
   "metadata": {},
   "outputs": [],
   "source": []
  }
 ],
 "metadata": {
  "kernelspec": {
   "display_name": "Python 3 (ipykernel)",
   "language": "python",
   "name": "python3"
  },
  "language_info": {
   "codemirror_mode": {
    "name": "ipython",
    "version": 3
   },
   "file_extension": ".py",
   "mimetype": "text/x-python",
   "name": "python",
   "nbconvert_exporter": "python",
   "pygments_lexer": "ipython3",
   "version": "3.9.7"
  }
 },
 "nbformat": 4,
 "nbformat_minor": 5
}
