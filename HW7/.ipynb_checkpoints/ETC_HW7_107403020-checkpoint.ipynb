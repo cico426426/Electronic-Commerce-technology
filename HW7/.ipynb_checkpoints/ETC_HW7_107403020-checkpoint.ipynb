{
 "cells": [
  {
   "cell_type": "code",
   "execution_count": 1,
   "id": "0b1c0ae9",
   "metadata": {},
   "outputs": [],
   "source": [
    "import pandas as pd"
   ]
  },
  {
   "cell_type": "markdown",
   "id": "7bdf1e20",
   "metadata": {},
   "source": [
    "## 1. 將資料集讀取為 D ataFrame 格式，並將原始順序打亂"
   ]
  },
  {
   "cell_type": "code",
   "execution_count": 2,
   "id": "e7434ac9",
   "metadata": {},
   "outputs": [
    {
     "data": {
      "text/html": [
       "<div>\n",
       "<style scoped>\n",
       "    .dataframe tbody tr th:only-of-type {\n",
       "        vertical-align: middle;\n",
       "    }\n",
       "\n",
       "    .dataframe tbody tr th {\n",
       "        vertical-align: top;\n",
       "    }\n",
       "\n",
       "    .dataframe thead th {\n",
       "        text-align: right;\n",
       "    }\n",
       "</style>\n",
       "<table border=\"1\" class=\"dataframe\">\n",
       "  <thead>\n",
       "    <tr style=\"text-align: right;\">\n",
       "      <th></th>\n",
       "      <th>meanfreq</th>\n",
       "      <th>sd</th>\n",
       "      <th>median</th>\n",
       "      <th>Q25</th>\n",
       "      <th>Q75</th>\n",
       "      <th>IQR</th>\n",
       "      <th>skew</th>\n",
       "      <th>kurt</th>\n",
       "      <th>sp.ent</th>\n",
       "      <th>sfm</th>\n",
       "      <th>...</th>\n",
       "      <th>centroid</th>\n",
       "      <th>meanfun</th>\n",
       "      <th>minfun</th>\n",
       "      <th>maxfun</th>\n",
       "      <th>meandom</th>\n",
       "      <th>mindom</th>\n",
       "      <th>maxdom</th>\n",
       "      <th>dfrange</th>\n",
       "      <th>modindx</th>\n",
       "      <th>label</th>\n",
       "    </tr>\n",
       "  </thead>\n",
       "  <tbody>\n",
       "    <tr>\n",
       "      <th>2674</th>\n",
       "      <td>0.207360</td>\n",
       "      <td>0.034840</td>\n",
       "      <td>0.216804</td>\n",
       "      <td>0.186359</td>\n",
       "      <td>0.230643</td>\n",
       "      <td>0.044283</td>\n",
       "      <td>1.994092</td>\n",
       "      <td>6.604918</td>\n",
       "      <td>0.857098</td>\n",
       "      <td>0.211331</td>\n",
       "      <td>...</td>\n",
       "      <td>0.207360</td>\n",
       "      <td>0.147177</td>\n",
       "      <td>0.047105</td>\n",
       "      <td>0.251309</td>\n",
       "      <td>1.914789</td>\n",
       "      <td>0.023438</td>\n",
       "      <td>8.062500</td>\n",
       "      <td>8.039062</td>\n",
       "      <td>0.180102</td>\n",
       "      <td>female</td>\n",
       "    </tr>\n",
       "    <tr>\n",
       "      <th>334</th>\n",
       "      <td>0.162391</td>\n",
       "      <td>0.061697</td>\n",
       "      <td>0.184511</td>\n",
       "      <td>0.103680</td>\n",
       "      <td>0.210808</td>\n",
       "      <td>0.107129</td>\n",
       "      <td>2.682338</td>\n",
       "      <td>10.661145</td>\n",
       "      <td>0.906473</td>\n",
       "      <td>0.470658</td>\n",
       "      <td>...</td>\n",
       "      <td>0.162391</td>\n",
       "      <td>0.105014</td>\n",
       "      <td>0.049751</td>\n",
       "      <td>0.270270</td>\n",
       "      <td>0.322780</td>\n",
       "      <td>0.004883</td>\n",
       "      <td>0.610352</td>\n",
       "      <td>0.605469</td>\n",
       "      <td>0.420430</td>\n",
       "      <td>male</td>\n",
       "    </tr>\n",
       "    <tr>\n",
       "      <th>57</th>\n",
       "      <td>0.121683</td>\n",
       "      <td>0.086850</td>\n",
       "      <td>0.118237</td>\n",
       "      <td>0.030685</td>\n",
       "      <td>0.215295</td>\n",
       "      <td>0.184610</td>\n",
       "      <td>2.062324</td>\n",
       "      <td>8.465574</td>\n",
       "      <td>0.931661</td>\n",
       "      <td>0.549218</td>\n",
       "      <td>...</td>\n",
       "      <td>0.121683</td>\n",
       "      <td>0.130888</td>\n",
       "      <td>0.020356</td>\n",
       "      <td>0.271186</td>\n",
       "      <td>0.583417</td>\n",
       "      <td>0.007812</td>\n",
       "      <td>3.726562</td>\n",
       "      <td>3.718750</td>\n",
       "      <td>0.253221</td>\n",
       "      <td>male</td>\n",
       "    </tr>\n",
       "    <tr>\n",
       "      <th>362</th>\n",
       "      <td>0.145721</td>\n",
       "      <td>0.096030</td>\n",
       "      <td>0.144108</td>\n",
       "      <td>0.068683</td>\n",
       "      <td>0.234913</td>\n",
       "      <td>0.166230</td>\n",
       "      <td>10.405302</td>\n",
       "      <td>145.828428</td>\n",
       "      <td>0.894506</td>\n",
       "      <td>0.460903</td>\n",
       "      <td>...</td>\n",
       "      <td>0.145721</td>\n",
       "      <td>0.111859</td>\n",
       "      <td>0.016227</td>\n",
       "      <td>0.219178</td>\n",
       "      <td>0.197917</td>\n",
       "      <td>0.007812</td>\n",
       "      <td>0.617188</td>\n",
       "      <td>0.609375</td>\n",
       "      <td>0.246548</td>\n",
       "      <td>male</td>\n",
       "    </tr>\n",
       "    <tr>\n",
       "      <th>651</th>\n",
       "      <td>0.138446</td>\n",
       "      <td>0.079346</td>\n",
       "      <td>0.138302</td>\n",
       "      <td>0.094870</td>\n",
       "      <td>0.211092</td>\n",
       "      <td>0.116222</td>\n",
       "      <td>3.337402</td>\n",
       "      <td>32.230435</td>\n",
       "      <td>0.951547</td>\n",
       "      <td>0.675556</td>\n",
       "      <td>...</td>\n",
       "      <td>0.138446</td>\n",
       "      <td>0.124298</td>\n",
       "      <td>0.016145</td>\n",
       "      <td>0.266667</td>\n",
       "      <td>0.104256</td>\n",
       "      <td>0.007812</td>\n",
       "      <td>0.523438</td>\n",
       "      <td>0.515625</td>\n",
       "      <td>0.282828</td>\n",
       "      <td>male</td>\n",
       "    </tr>\n",
       "  </tbody>\n",
       "</table>\n",
       "<p>5 rows × 21 columns</p>\n",
       "</div>"
      ],
      "text/plain": [
       "      meanfreq        sd    median       Q25       Q75       IQR       skew  \\\n",
       "2674  0.207360  0.034840  0.216804  0.186359  0.230643  0.044283   1.994092   \n",
       "334   0.162391  0.061697  0.184511  0.103680  0.210808  0.107129   2.682338   \n",
       "57    0.121683  0.086850  0.118237  0.030685  0.215295  0.184610   2.062324   \n",
       "362   0.145721  0.096030  0.144108  0.068683  0.234913  0.166230  10.405302   \n",
       "651   0.138446  0.079346  0.138302  0.094870  0.211092  0.116222   3.337402   \n",
       "\n",
       "            kurt    sp.ent       sfm  ...  centroid   meanfun    minfun  \\\n",
       "2674    6.604918  0.857098  0.211331  ...  0.207360  0.147177  0.047105   \n",
       "334    10.661145  0.906473  0.470658  ...  0.162391  0.105014  0.049751   \n",
       "57      8.465574  0.931661  0.549218  ...  0.121683  0.130888  0.020356   \n",
       "362   145.828428  0.894506  0.460903  ...  0.145721  0.111859  0.016227   \n",
       "651    32.230435  0.951547  0.675556  ...  0.138446  0.124298  0.016145   \n",
       "\n",
       "        maxfun   meandom    mindom    maxdom   dfrange   modindx   label  \n",
       "2674  0.251309  1.914789  0.023438  8.062500  8.039062  0.180102  female  \n",
       "334   0.270270  0.322780  0.004883  0.610352  0.605469  0.420430    male  \n",
       "57    0.271186  0.583417  0.007812  3.726562  3.718750  0.253221    male  \n",
       "362   0.219178  0.197917  0.007812  0.617188  0.609375  0.246548    male  \n",
       "651   0.266667  0.104256  0.007812  0.523438  0.515625  0.282828    male  \n",
       "\n",
       "[5 rows x 21 columns]"
      ]
     },
     "execution_count": 2,
     "metadata": {},
     "output_type": "execute_result"
    }
   ],
   "source": [
    "df = pd.read_csv('gender_recog.csv')\n",
    "df = df.sample(frac=1)\n",
    "df.head()"
   ]
  },
  {
   "cell_type": "code",
   "execution_count": 3,
   "id": "4e3c60ab",
   "metadata": {},
   "outputs": [
    {
     "data": {
      "text/html": [
       "<div>\n",
       "<style scoped>\n",
       "    .dataframe tbody tr th:only-of-type {\n",
       "        vertical-align: middle;\n",
       "    }\n",
       "\n",
       "    .dataframe tbody tr th {\n",
       "        vertical-align: top;\n",
       "    }\n",
       "\n",
       "    .dataframe thead th {\n",
       "        text-align: right;\n",
       "    }\n",
       "</style>\n",
       "<table border=\"1\" class=\"dataframe\">\n",
       "  <thead>\n",
       "    <tr style=\"text-align: right;\">\n",
       "      <th></th>\n",
       "      <th>meanfreq</th>\n",
       "      <th>sd</th>\n",
       "      <th>median</th>\n",
       "      <th>Q25</th>\n",
       "      <th>Q75</th>\n",
       "      <th>IQR</th>\n",
       "      <th>skew</th>\n",
       "      <th>kurt</th>\n",
       "      <th>sp.ent</th>\n",
       "      <th>sfm</th>\n",
       "      <th>...</th>\n",
       "      <th>centroid</th>\n",
       "      <th>meanfun</th>\n",
       "      <th>minfun</th>\n",
       "      <th>maxfun</th>\n",
       "      <th>meandom</th>\n",
       "      <th>mindom</th>\n",
       "      <th>maxdom</th>\n",
       "      <th>dfrange</th>\n",
       "      <th>modindx</th>\n",
       "      <th>label</th>\n",
       "    </tr>\n",
       "  </thead>\n",
       "  <tbody>\n",
       "    <tr>\n",
       "      <th>2674</th>\n",
       "      <td>0.207360</td>\n",
       "      <td>0.034840</td>\n",
       "      <td>0.216804</td>\n",
       "      <td>0.186359</td>\n",
       "      <td>0.230643</td>\n",
       "      <td>0.044283</td>\n",
       "      <td>1.994092</td>\n",
       "      <td>6.604918</td>\n",
       "      <td>0.857098</td>\n",
       "      <td>0.211331</td>\n",
       "      <td>...</td>\n",
       "      <td>0.207360</td>\n",
       "      <td>0.147177</td>\n",
       "      <td>0.047105</td>\n",
       "      <td>0.251309</td>\n",
       "      <td>1.914789</td>\n",
       "      <td>0.023438</td>\n",
       "      <td>8.062500</td>\n",
       "      <td>8.039062</td>\n",
       "      <td>0.180102</td>\n",
       "      <td>0</td>\n",
       "    </tr>\n",
       "    <tr>\n",
       "      <th>334</th>\n",
       "      <td>0.162391</td>\n",
       "      <td>0.061697</td>\n",
       "      <td>0.184511</td>\n",
       "      <td>0.103680</td>\n",
       "      <td>0.210808</td>\n",
       "      <td>0.107129</td>\n",
       "      <td>2.682338</td>\n",
       "      <td>10.661145</td>\n",
       "      <td>0.906473</td>\n",
       "      <td>0.470658</td>\n",
       "      <td>...</td>\n",
       "      <td>0.162391</td>\n",
       "      <td>0.105014</td>\n",
       "      <td>0.049751</td>\n",
       "      <td>0.270270</td>\n",
       "      <td>0.322780</td>\n",
       "      <td>0.004883</td>\n",
       "      <td>0.610352</td>\n",
       "      <td>0.605469</td>\n",
       "      <td>0.420430</td>\n",
       "      <td>1</td>\n",
       "    </tr>\n",
       "    <tr>\n",
       "      <th>57</th>\n",
       "      <td>0.121683</td>\n",
       "      <td>0.086850</td>\n",
       "      <td>0.118237</td>\n",
       "      <td>0.030685</td>\n",
       "      <td>0.215295</td>\n",
       "      <td>0.184610</td>\n",
       "      <td>2.062324</td>\n",
       "      <td>8.465574</td>\n",
       "      <td>0.931661</td>\n",
       "      <td>0.549218</td>\n",
       "      <td>...</td>\n",
       "      <td>0.121683</td>\n",
       "      <td>0.130888</td>\n",
       "      <td>0.020356</td>\n",
       "      <td>0.271186</td>\n",
       "      <td>0.583417</td>\n",
       "      <td>0.007812</td>\n",
       "      <td>3.726562</td>\n",
       "      <td>3.718750</td>\n",
       "      <td>0.253221</td>\n",
       "      <td>1</td>\n",
       "    </tr>\n",
       "    <tr>\n",
       "      <th>362</th>\n",
       "      <td>0.145721</td>\n",
       "      <td>0.096030</td>\n",
       "      <td>0.144108</td>\n",
       "      <td>0.068683</td>\n",
       "      <td>0.234913</td>\n",
       "      <td>0.166230</td>\n",
       "      <td>10.405302</td>\n",
       "      <td>145.828428</td>\n",
       "      <td>0.894506</td>\n",
       "      <td>0.460903</td>\n",
       "      <td>...</td>\n",
       "      <td>0.145721</td>\n",
       "      <td>0.111859</td>\n",
       "      <td>0.016227</td>\n",
       "      <td>0.219178</td>\n",
       "      <td>0.197917</td>\n",
       "      <td>0.007812</td>\n",
       "      <td>0.617188</td>\n",
       "      <td>0.609375</td>\n",
       "      <td>0.246548</td>\n",
       "      <td>1</td>\n",
       "    </tr>\n",
       "    <tr>\n",
       "      <th>651</th>\n",
       "      <td>0.138446</td>\n",
       "      <td>0.079346</td>\n",
       "      <td>0.138302</td>\n",
       "      <td>0.094870</td>\n",
       "      <td>0.211092</td>\n",
       "      <td>0.116222</td>\n",
       "      <td>3.337402</td>\n",
       "      <td>32.230435</td>\n",
       "      <td>0.951547</td>\n",
       "      <td>0.675556</td>\n",
       "      <td>...</td>\n",
       "      <td>0.138446</td>\n",
       "      <td>0.124298</td>\n",
       "      <td>0.016145</td>\n",
       "      <td>0.266667</td>\n",
       "      <td>0.104256</td>\n",
       "      <td>0.007812</td>\n",
       "      <td>0.523438</td>\n",
       "      <td>0.515625</td>\n",
       "      <td>0.282828</td>\n",
       "      <td>1</td>\n",
       "    </tr>\n",
       "  </tbody>\n",
       "</table>\n",
       "<p>5 rows × 21 columns</p>\n",
       "</div>"
      ],
      "text/plain": [
       "      meanfreq        sd    median       Q25       Q75       IQR       skew  \\\n",
       "2674  0.207360  0.034840  0.216804  0.186359  0.230643  0.044283   1.994092   \n",
       "334   0.162391  0.061697  0.184511  0.103680  0.210808  0.107129   2.682338   \n",
       "57    0.121683  0.086850  0.118237  0.030685  0.215295  0.184610   2.062324   \n",
       "362   0.145721  0.096030  0.144108  0.068683  0.234913  0.166230  10.405302   \n",
       "651   0.138446  0.079346  0.138302  0.094870  0.211092  0.116222   3.337402   \n",
       "\n",
       "            kurt    sp.ent       sfm  ...  centroid   meanfun    minfun  \\\n",
       "2674    6.604918  0.857098  0.211331  ...  0.207360  0.147177  0.047105   \n",
       "334    10.661145  0.906473  0.470658  ...  0.162391  0.105014  0.049751   \n",
       "57      8.465574  0.931661  0.549218  ...  0.121683  0.130888  0.020356   \n",
       "362   145.828428  0.894506  0.460903  ...  0.145721  0.111859  0.016227   \n",
       "651    32.230435  0.951547  0.675556  ...  0.138446  0.124298  0.016145   \n",
       "\n",
       "        maxfun   meandom    mindom    maxdom   dfrange   modindx  label  \n",
       "2674  0.251309  1.914789  0.023438  8.062500  8.039062  0.180102      0  \n",
       "334   0.270270  0.322780  0.004883  0.610352  0.605469  0.420430      1  \n",
       "57    0.271186  0.583417  0.007812  3.726562  3.718750  0.253221      1  \n",
       "362   0.219178  0.197917  0.007812  0.617188  0.609375  0.246548      1  \n",
       "651   0.266667  0.104256  0.007812  0.523438  0.515625  0.282828      1  \n",
       "\n",
       "[5 rows x 21 columns]"
      ]
     },
     "execution_count": 3,
     "metadata": {},
     "output_type": "execute_result"
    }
   ],
   "source": [
    "df['label'] = df['label'].apply(lambda x : 1 if x == 'male' else 0)\n",
    "df.head()"
   ]
  },
  {
   "cell_type": "code",
   "execution_count": 4,
   "id": "2bcb36f2",
   "metadata": {},
   "outputs": [],
   "source": [
    "X = df.drop(['label'], axis=1)\n",
    "y = df['label']"
   ]
  },
  {
   "cell_type": "markdown",
   "id": "3657b0af",
   "metadata": {},
   "source": [
    "## 2. 使用 scikit-learn 建立 RandomForest 分類器 ，並以 10 cross validation 評估模型在此資料集的分類表現評估指標： F1-score ，請印出平均 F1-score"
   ]
  },
  {
   "cell_type": "code",
   "execution_count": 5,
   "id": "e780b030",
   "metadata": {},
   "outputs": [],
   "source": [
    "from sklearn.ensemble import RandomForestClassifier\n",
    "from sklearn.model_selection import cross_val_score\n",
    "from sklearn.model_selection import cross_val_predict\n",
    "from sklearn.metrics import classification_report"
   ]
  },
  {
   "cell_type": "code",
   "execution_count": 6,
   "id": "a40d29ef",
   "metadata": {},
   "outputs": [
    {
     "name": "stdout",
     "output_type": "stream",
     "text": [
      "F1-score :  0.97943572177143\n"
     ]
    }
   ],
   "source": [
    "dfc = RandomForestClassifier(random_state=0)\n",
    "dfc_result = cross_val_score(dfc, X, y, cv=10, scoring=\"f1\")\n",
    "print(\"F1-score : \", dfc_result.mean())"
   ]
  },
  {
   "cell_type": "code",
   "execution_count": 7,
   "id": "dbded235",
   "metadata": {},
   "outputs": [
    {
     "name": "stdout",
     "output_type": "stream",
     "text": [
      "              precision    recall  f1-score   support\n",
      "\n",
      "           0       0.98      0.98      0.98      1584\n",
      "           1       0.98      0.98      0.98      1584\n",
      "\n",
      "    accuracy                           0.98      3168\n",
      "   macro avg       0.98      0.98      0.98      3168\n",
      "weighted avg       0.98      0.98      0.98      3168\n",
      "\n"
     ]
    }
   ],
   "source": [
    "y_pred = cross_val_predict(dfc, X, y, cv=10)\n",
    "print(classification_report(y, y_pred))"
   ]
  },
  {
   "cell_type": "markdown",
   "id": "bb4cfc30",
   "metadata": {},
   "source": [
    "## 3. 使用scikit-learn 建立 MLP 分類器，並以 10 cross validation 評估模型在此資料集，的分類表現評估指標： F1-score ，請印出平均F1-score"
   ]
  },
  {
   "cell_type": "code",
   "execution_count": 8,
   "id": "41fd94ef",
   "metadata": {},
   "outputs": [],
   "source": [
    "from sklearn.neural_network import MLPClassifier"
   ]
  },
  {
   "cell_type": "code",
   "execution_count": 9,
   "id": "d9e6b65d",
   "metadata": {},
   "outputs": [
    {
     "name": "stdout",
     "output_type": "stream",
     "text": [
      "0.940912673092517\n"
     ]
    }
   ],
   "source": [
    "mlp = MLPClassifier(max_iter=500)\n",
    "mlp_result = cross_val_score(mlp, X, y, cv=10, scoring=\"f1\")\n",
    "print(mlp_result.mean())"
   ]
  },
  {
   "cell_type": "code",
   "execution_count": 10,
   "id": "4f917f11",
   "metadata": {},
   "outputs": [
    {
     "name": "stdout",
     "output_type": "stream",
     "text": [
      "              precision    recall  f1-score   support\n",
      "\n",
      "           0       0.95      0.94      0.95      1584\n",
      "           1       0.94      0.95      0.95      1584\n",
      "\n",
      "    accuracy                           0.95      3168\n",
      "   macro avg       0.95      0.95      0.95      3168\n",
      "weighted avg       0.95      0.95      0.95      3168\n",
      "\n"
     ]
    }
   ],
   "source": [
    "y_pred = cross_val_predict(mlp, X, y, cv=10)\n",
    "print(classification_report(y, y_pred))"
   ]
  },
  {
   "cell_type": "markdown",
   "id": "ad347ca4",
   "metadata": {},
   "source": [
    "## 4. 使用 Keras 建立 MLP 分類器，並以 10 cross validation 評估模型在此資料集的分類表現評估指標： F1-score ，請印出平均 F1-score"
   ]
  },
  {
   "cell_type": "code",
   "execution_count": 11,
   "id": "67e3eeb6",
   "metadata": {},
   "outputs": [],
   "source": [
    "from sklearn.model_selection import  train_test_split\n",
    "X_train, X_test, y_train, y_test = train_test_split(X, y, test_size=0.3, stratify=y, random_state=0)"
   ]
  },
  {
   "cell_type": "code",
   "execution_count": 12,
   "id": "e78fa8f5",
   "metadata": {},
   "outputs": [],
   "source": [
    "from keras import backend as K\n",
    "\n",
    "def recall_m(y_true, y_pred):\n",
    "    true_positives = K.sum(K.round(K.clip(y_true * y_pred, 0, 1)))\n",
    "    possible_positives = K.sum(K.round(K.clip(y_true, 0, 1)))\n",
    "    recall = true_positives / (possible_positives + K.epsilon())\n",
    "    return recall\n",
    "\n",
    "def precision_m(y_true, y_pred):\n",
    "    true_positives = K.sum(K.round(K.clip(y_true * y_pred, 0, 1)))\n",
    "    predicted_positives = K.sum(K.round(K.clip(y_pred, 0, 1)))\n",
    "    precision = true_positives / (predicted_positives + K.epsilon())\n",
    "    return precision\n",
    "\n",
    "def f1_m(y_true, y_pred):\n",
    "    precision = precision_m(y_true, y_pred)\n",
    "    recall = recall_m(y_true, y_pred)\n",
    "    return 2*((precision*recall)/(precision+recall+K.epsilon()))"
   ]
  },
  {
   "cell_type": "code",
   "execution_count": 13,
   "id": "0b627d5c",
   "metadata": {},
   "outputs": [],
   "source": [
    "from keras.models import Sequential\n",
    "from keras.layers import Dense\n",
    "import numpy as np"
   ]
  },
  {
   "cell_type": "code",
   "execution_count": 14,
   "id": "367f7b38",
   "metadata": {},
   "outputs": [],
   "source": [
    "def build_model():\n",
    "    model = Sequential()\n",
    "    model.add(Dense(20, input_dim=X.shape[1], activation='relu'))\n",
    "    model.add(Dense(10, activation='relu'))\n",
    "    model.add(Dense(1, activation='sigmoid'))\n",
    "    model.compile(optimizer='adam', loss='binary_crossentropy', metrics=['accuracy', f1_m,precision_m, recall_m])\n",
    "    return model"
   ]
  },
  {
   "cell_type": "code",
   "execution_count": 15,
   "id": "99489641",
   "metadata": {},
   "outputs": [
    {
     "name": "stdout",
     "output_type": "stream",
     "text": [
      "0.9074794828891755\n"
     ]
    }
   ],
   "source": [
    "k = 10\n",
    "num_validation_samples = len(X)//k\n",
    "validation_scores = []\n",
    "for fold in range(k):\n",
    "    validation_X_data = X[num_validation_samples*fold : num_validation_samples*(fold+1)]\n",
    "    validation_y_data = y[num_validation_samples*fold : num_validation_samples*(fold+1)]\n",
    "    training_X_data = pd.concat([X[num_validation_samples*fold:], X[:num_validation_samples*(fold+1)]])\n",
    "    training_y_data = pd.concat([y[num_validation_samples*fold:], y[:num_validation_samples*(fold+1)]])\n",
    "    model = build_model()\n",
    "    model.fit(training_X_data, training_y_data, epochs=20, batch_size=10, verbose=0)\n",
    "    loss, accuracy, f1_score, precision, recall = model.evaluate(validation_X_data, validation_y_data, verbose=0)\n",
    "    validation_scores.append(f1_score)\n",
    "f1_score = np.average(validation_scores)\n",
    "print(f1_score)"
   ]
  },
  {
   "cell_type": "markdown",
   "id": "727f97de",
   "metadata": {},
   "source": [
    "## 5. 請問你在上述 3 題所使用的 F1-score是以哪一類別為依據male、female、兩者平均"
   ]
  },
  {
   "cell_type": "markdown",
   "id": "18c1f883",
   "metadata": {},
   "source": [
    "ANS : 依據male"
   ]
  },
  {
   "cell_type": "markdown",
   "id": "75510bb9",
   "metadata": {},
   "source": [
    "## 6. 以 t-test比較上述三個模型的表現，並簡述結論"
   ]
  },
  {
   "cell_type": "code",
   "execution_count": 16,
   "id": "baece5f6",
   "metadata": {},
   "outputs": [
    {
     "data": {
      "text/plain": [
       "numpy.ndarray"
      ]
     },
     "execution_count": 16,
     "metadata": {},
     "output_type": "execute_result"
    }
   ],
   "source": [
    "type(dfc_result)"
   ]
  },
  {
   "cell_type": "code",
   "execution_count": 17,
   "id": "5858ca18",
   "metadata": {},
   "outputs": [],
   "source": [
    "# 6. 根據模型於 30 次 10 folds cross-validation 的 Accuracy，以 paired t-test 比較兩種模型，並說明結論\n",
    "from scipy.stats import ttest_rel\n",
    "validation_scores_np=np.array(validation_scores)"
   ]
  },
  {
   "cell_type": "code",
   "execution_count": 18,
   "id": "5f04c7eb",
   "metadata": {},
   "outputs": [
    {
     "name": "stdout",
     "output_type": "stream",
     "text": [
      "Ttest_relResult(statistic=4.923572331735177, pvalue=0.0008205629993791298)\n"
     ]
    }
   ],
   "source": [
    "# Python paired sample t-test\n",
    "print(ttest_rel(dfc_result, mlp_result))"
   ]
  },
  {
   "cell_type": "code",
   "execution_count": 19,
   "id": "6fc77284",
   "metadata": {},
   "outputs": [
    {
     "name": "stdout",
     "output_type": "stream",
     "text": [
      "Ttest_relResult(statistic=10.014056322994536, pvalue=3.5366409681166577e-06)\n"
     ]
    }
   ],
   "source": [
    "# Python paired sample t-test\n",
    "print(ttest_rel(dfc_result, validation_scores_np))"
   ]
  },
  {
   "cell_type": "code",
   "execution_count": 20,
   "id": "a6706ab8",
   "metadata": {},
   "outputs": [
    {
     "name": "stdout",
     "output_type": "stream",
     "text": [
      "Ttest_relResult(statistic=3.1068375451062993, pvalue=0.01258287995285624)\n"
     ]
    }
   ],
   "source": [
    "# Python paired sample t-test\n",
    "print(ttest_rel(mlp_result, validation_scores_np))"
   ]
  },
  {
   "cell_type": "markdown",
   "id": "8a7f3157",
   "metadata": {},
   "source": [
    "3個模型交互作t檢定後，直接小於0.05，代表模型預測的結果相近"
   ]
  },
  {
   "cell_type": "markdown",
   "id": "ee23fa73",
   "metadata": {},
   "source": [
    "## 7. 有某新資料各屬性值 如 下 請判斷此聲音的性別"
   ]
  },
  {
   "cell_type": "code",
   "execution_count": 31,
   "id": "10b5cd9e",
   "metadata": {},
   "outputs": [],
   "source": [
    "def predict_result(y_pred):\n",
    "    if y_pred >= 0.5:\n",
    "        print('male')\n",
    "    else:\n",
    "        print('female')"
   ]
  },
  {
   "cell_type": "code",
   "execution_count": 21,
   "id": "2b91cc5d",
   "metadata": {},
   "outputs": [
    {
     "data": {
      "text/plain": [
       "(1, 20)"
      ]
     },
     "execution_count": 21,
     "metadata": {},
     "output_type": "execute_result"
    }
   ],
   "source": [
    "data = np.array([(0.1528, 0.0735, 0.1490, 0.0479, 0.2095, 0.1416,\n",
    "          1.5325, 7.3388, 0.9631, 0.7383, 0.1325, 0.1427, 0.1101, 0.0111, 0.2539,\n",
    "          0.2982, 0.0078, 2.7235, 2.7184, 0.1251)])\n",
    "data.shape"
   ]
  },
  {
   "cell_type": "code",
   "execution_count": 32,
   "id": "3a3039ce",
   "metadata": {},
   "outputs": [
    {
     "name": "stdout",
     "output_type": "stream",
     "text": [
      "male\n"
     ]
    }
   ],
   "source": [
    "dfc.fit(X.values, y.values)\n",
    "y_pred = dfc.predict(data)[0]\n",
    "predict_result(y_pred)"
   ]
  },
  {
   "cell_type": "code",
   "execution_count": 34,
   "id": "3a93e39d",
   "metadata": {},
   "outputs": [
    {
     "name": "stdout",
     "output_type": "stream",
     "text": [
      "male\n"
     ]
    }
   ],
   "source": [
    "mlp.fit(X.values, y.values)\n",
    "y_pred = mlp.predict(data)[0]\n",
    "predict_result(y_pred)"
   ]
  },
  {
   "cell_type": "code",
   "execution_count": 35,
   "id": "0ef6cdc4",
   "metadata": {},
   "outputs": [
    {
     "name": "stdout",
     "output_type": "stream",
     "text": [
      "male\n"
     ]
    }
   ],
   "source": [
    "model = build_model()\n",
    "y_pred = model.predict(data, verbose=0)\n",
    "predict_result(y_pred)"
   ]
  },
  {
   "cell_type": "code",
   "execution_count": null,
   "id": "c67bbdfa",
   "metadata": {},
   "outputs": [],
   "source": []
  }
 ],
 "metadata": {
  "kernelspec": {
   "display_name": "Python 3 (ipykernel)",
   "language": "python",
   "name": "python3"
  },
  "language_info": {
   "codemirror_mode": {
    "name": "ipython",
    "version": 3
   },
   "file_extension": ".py",
   "mimetype": "text/x-python",
   "name": "python",
   "nbconvert_exporter": "python",
   "pygments_lexer": "ipython3",
   "version": "3.9.7"
  }
 },
 "nbformat": 4,
 "nbformat_minor": 5
}
